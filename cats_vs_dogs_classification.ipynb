{
  "nbformat": 4,
  "nbformat_minor": 0,
  "metadata": {
    "colab": {
      "provenance": [],
      "authorship_tag": "ABX9TyOL01wl9zkALfHUtBCDPlzu",
      "include_colab_link": true
    },
    "kernelspec": {
      "name": "python3",
      "display_name": "Python 3"
    },
    "language_info": {
      "name": "python"
    }
  },
  "cells": [
    {
      "cell_type": "markdown",
      "metadata": {
        "id": "view-in-github",
        "colab_type": "text"
      },
      "source": [
        "<a href=\"https://colab.research.google.com/github/Mattias36/binary_classification_cats_and_dogs/blob/main/cats_vs_dogs_classification.ipynb\" target=\"_parent\"><img src=\"https://colab.research.google.com/assets/colab-badge.svg\" alt=\"Open In Colab\"/></a>"
      ]
    },
    {
      "cell_type": "code",
      "source": [
        "! pip install kaggle"
      ],
      "metadata": {
        "id": "45u4w0obL1RC"
      },
      "execution_count": null,
      "outputs": []
    },
    {
      "cell_type": "code",
      "source": [
        "from google.colab import drive\n",
        "drive.mount('/content/drive')"
      ],
      "metadata": {
        "id": "O0lnSFYaL4MS",
        "collapsed": true
      },
      "execution_count": null,
      "outputs": []
    },
    {
      "cell_type": "code",
      "source": [
        "! mkdir ~/.kaggle"
      ],
      "metadata": {
        "id": "DIGKKvtIMjiW"
      },
      "execution_count": null,
      "outputs": []
    },
    {
      "cell_type": "code",
      "source": [
        "! cp /content/drive/MyDrive/kaggle.json ~/.kaggle/kaggle.json"
      ],
      "metadata": {
        "id": "LEe1c2gbM3lk"
      },
      "execution_count": null,
      "outputs": []
    },
    {
      "cell_type": "code",
      "source": [
        "! chmod 600 ~/.kaggle/kaggle.json"
      ],
      "metadata": {
        "id": "ntco5VjjNH-T"
      },
      "execution_count": null,
      "outputs": []
    },
    {
      "cell_type": "code",
      "source": [
        "!kaggle datasets download -d salader/dogs-vs-cats"
      ],
      "metadata": {
        "colab": {
          "base_uri": "https://localhost:8080/"
        },
        "id": "Yb57_QnlOM8C",
        "outputId": "050e2d0f-0352-4efb-d22f-684a343878df"
      },
      "execution_count": null,
      "outputs": [
        {
          "output_type": "stream",
          "name": "stdout",
          "text": [
            "Dataset URL: https://www.kaggle.com/datasets/salader/dogs-vs-cats\n",
            "License(s): unknown\n",
            "dogs-vs-cats.zip: Skipping, found more recently modified local copy (use --force to force download)\n"
          ]
        }
      ]
    },
    {
      "cell_type": "code",
      "source": [
        "import zipfile\n",
        "zip_ref = zipfile.ZipFile('/content/dogs-vs-cats.zip', 'r')\n",
        "zip_ref.extractall('/content')\n",
        "zip_ref.close()"
      ],
      "metadata": {
        "id": "WtQ889csOY14"
      },
      "execution_count": null,
      "outputs": []
    },
    {
      "cell_type": "code",
      "source": [
        "from torchvision import datasets, transforms\n",
        "from torch.utils.data import DataLoader\n",
        "\n",
        "transform = transforms.Compose([\n",
        "    transforms.Resize((128, 128)),\n",
        "    transforms.ToTensor(),\n",
        "    transforms.Normalize(mean=[0.5, 0.5, 0.5], std=[0.5, 0.5, 0.5])\n",
        "])\n",
        "\n",
        "train_dataset = datasets.ImageFolder('/content/train', transform=transform)\n",
        "train_loader = DataLoader(train_dataset, batch_size=32, shuffle=True)\n",
        "\n",
        "test_dataset = datasets.ImageFolder('/content/test', transform=transform)\n",
        "test_loader = DataLoader(test_dataset, batch_size=32, shuffle=False)\n"
      ],
      "metadata": {
        "id": "WLPUv-_oOx-K"
      },
      "execution_count": null,
      "outputs": []
    },
    {
      "cell_type": "code",
      "source": [
        "import torch.nn as nn\n",
        "import torch.nn.functional as F\n",
        "\n",
        "class SimpleCNN(nn.Module):\n",
        "    def __init__(self):\n",
        "        super(SimpleCNN, self).__init__()\n",
        "        self.conv1 = nn.Conv2d(3, 16, 3, padding=1)\n",
        "        self.conv2 = nn.Conv2d(16, 32, 3, padding=1)\n",
        "        self.fc1 = nn.Linear(32 * 32 * 32, 128)\n",
        "        self.fc2 = nn.Linear(128, 2)\n",
        "\n",
        "    def forward(self, x):\n",
        "        x = F.relu(self.conv1(x))\n",
        "        x = F.max_pool2d(x, 2)\n",
        "        x = F.relu(self.conv2(x))\n",
        "        x = F.max_pool2d(x, 2)\n",
        "        x = x.view(-1, 32 * 32 * 32)\n",
        "        x = F.relu(self.fc1(x))\n",
        "        x = self.fc2(x)\n",
        "        return x\n"
      ],
      "metadata": {
        "id": "DEQGa_CMU28q"
      },
      "execution_count": null,
      "outputs": []
    },
    {
      "cell_type": "code",
      "source": [
        "# Modyfikacja 1: Dodanie trzeciej warstwy konwolucyjnej\n",
        "class ModifiedCNN1(nn.Module):\n",
        "    def __init__(self):\n",
        "        super(ModifiedCNN1, self).__init__()\n",
        "        self.conv1 = nn.Conv2d(3, 16, 3, padding=1)\n",
        "        self.conv2 = nn.Conv2d(16, 32, 3, padding=1)\n",
        "        self.conv3 = nn.Conv2d(32, 64, 3, padding=1)  # Nowa warstwa konwolucyjna\n",
        "        self.fc1 = nn.Linear(64 * 16 * 16, 128)\n",
        "        self.fc2 = nn.Linear(128, 2)\n",
        "\n",
        "    def forward(self, x):\n",
        "        x = F.relu(self.conv1(x))\n",
        "        x = F.max_pool2d(x, 2)\n",
        "        x = F.relu(self.conv2(x))\n",
        "        x = F.max_pool2d(x, 2)\n",
        "        x = F.relu(self.conv3(x))  # Aktywacja dla nowej warstwy\n",
        "        x = F.max_pool2d(x, 2)\n",
        "        x = x.view(-1, 64 * 16 * 16)\n",
        "        x = F.relu(self.fc1(x))\n",
        "        x = self.fc2(x)\n",
        "        return x"
      ],
      "metadata": {
        "id": "XcjF66xb2Nus"
      },
      "execution_count": null,
      "outputs": []
    },
    {
      "cell_type": "code",
      "source": [
        "class ModifiedCNN2(nn.Module):\n",
        "    def __init__(self):\n",
        "        super(ModifiedCNN2, self).__init__()\n",
        "        self.conv1 = nn.Conv2d(3, 16, 3, padding=1)\n",
        "        self.conv2 = nn.Conv2d(16, 32, 3, padding=1)\n",
        "        self.fc1 = nn.Linear(32 * 32 * 32, 256)  # Więcej neuronów w warstwie w pełni połączonej\n",
        "        self.fc2 = nn.Linear(256, 64)           # Dodanie dodatkowej warstwy w pełni połączonej\n",
        "        self.fc3 = nn.Linear(64, 2)             # Wyjściowa warstwa\n",
        "\n",
        "    def forward(self, x):\n",
        "        x = F.relu(self.conv1(x))\n",
        "        x = F.max_pool2d(x, 2)\n",
        "        x = F.relu(self.conv2(x))\n",
        "        x = F.max_pool2d(x, 2)\n",
        "        x = x.view(-1, 32 * 32 * 32)\n",
        "        x = F.relu(self.fc1(x))\n",
        "        x = F.relu(self.fc2(x))  # Nowa warstwa w pełni połączona\n",
        "        x = self.fc3(x)\n",
        "        return x"
      ],
      "metadata": {
        "id": "GM79K7zz2UKM"
      },
      "execution_count": null,
      "outputs": []
    },
    {
      "cell_type": "code",
      "source": [
        "import torch.optim as optim\n",
        "import torch\n",
        "\n",
        "# Funkcja do trenowania modelu\n",
        "def train_model(model, train_loader, test_loader, epochs=10):\n",
        "    criterion = nn.CrossEntropyLoss()\n",
        "    optimizer = optim.Adam(model.parameters(), lr=0.001)\n",
        "\n",
        "    for epoch in range(epochs):\n",
        "        model.train()\n",
        "        running_loss = 0.0\n",
        "        for images, labels in train_loader:\n",
        "            optimizer.zero_grad()\n",
        "            outputs = model(images)\n",
        "            loss = criterion(outputs, labels)\n",
        "            loss.backward()\n",
        "            optimizer.step()\n",
        "            running_loss += loss.item()\n",
        "        print(f\"Epoch {epoch+1}, Loss: {running_loss / len(train_loader)}\")\n",
        "\n",
        "    # Testowanie modelu\n",
        "    correct = 0\n",
        "    total = 0\n",
        "    model.eval()\n",
        "    with torch.no_grad():\n",
        "        for images, labels in test_loader:\n",
        "            outputs = model(images)\n",
        "            _, predicted = torch.max(outputs, 1)\n",
        "            total += labels.size(0)\n",
        "            correct += (predicted == labels).sum().item()\n",
        "\n",
        "    print(f'Accuracy: {100 * correct / total}%')\n"
      ],
      "metadata": {
        "id": "ztWGMStsYMU_"
      },
      "execution_count": null,
      "outputs": []
    },
    {
      "cell_type": "code",
      "source": [
        "# Trening oryginalnej sieci\n",
        "print(\"Training SimpleCNN:\")\n",
        "model1 = SimpleCNN()\n",
        "train_model(model1, train_loader, test_loader)\n",
        "\n",
        "# Trening zmodyfikowanej sieci 1\n",
        "print(\"\\nTraining ModifiedCNN1:\")\n",
        "model2 = ModifiedCNN1()\n",
        "train_model(model2, train_loader, test_loader)\n",
        "\n",
        "# Trening zmodyfikowanej sieci 2\n",
        "print(\"\\nTraining ModifiedCNN2:\")\n",
        "model3 = ModifiedCNN2()\n",
        "train_model(model3, train_loader, test_loader)\n"
      ],
      "metadata": {
        "colab": {
          "base_uri": "https://localhost:8080/"
        },
        "id": "iz65jfwjYR3t",
        "outputId": "e152d735-46e4-4881-8fa6-524567338548"
      },
      "execution_count": null,
      "outputs": [
        {
          "output_type": "stream",
          "name": "stdout",
          "text": [
            "Training SimpleCNN:\n",
            "Epoch 1, Loss: 0.648064333486557\n",
            "Epoch 2, Loss: 0.5113909238338471\n",
            "Epoch 3, Loss: 0.4313260902643204\n",
            "Epoch 4, Loss: 0.35419988745450975\n",
            "Epoch 5, Loss: 0.26575555056333544\n",
            "Epoch 6, Loss: 0.16709813506305218\n",
            "Epoch 7, Loss: 0.09789655162990094\n",
            "Epoch 8, Loss: 0.055150156746432186\n",
            "Epoch 9, Loss: 0.03539622383601963\n",
            "Epoch 10, Loss: 0.03432973359450698\n",
            "Accuracy: 76.8%\n",
            "\n",
            "Training ModifiedCNN1:\n",
            "Epoch 1, Loss: 0.576268492937088\n",
            "Epoch 2, Loss: 0.44448801820278167\n",
            "Epoch 3, Loss: 0.37995197861194613\n",
            "Epoch 4, Loss: 0.3153878596663475\n",
            "Epoch 5, Loss: 0.24261016152501105\n",
            "Epoch 6, Loss: 0.16146811110973358\n",
            "Epoch 7, Loss: 0.09728029003590345\n",
            "Epoch 8, Loss: 0.06720549902692437\n",
            "Epoch 9, Loss: 0.04803343488953542\n",
            "Epoch 10, Loss: 0.042323705410026016\n",
            "Accuracy: 83.1%\n",
            "\n",
            "Training ModifiedCNN2:\n",
            "Epoch 1, Loss: 0.5867571165084838\n",
            "Epoch 2, Loss: 0.4516099758148193\n",
            "Epoch 3, Loss: 0.3397676756620407\n",
            "Epoch 4, Loss: 0.18473723510205745\n",
            "Epoch 5, Loss: 0.06759610903896392\n",
            "Epoch 6, Loss: 0.034130191233521325\n",
            "Epoch 7, Loss: 0.03140231346511282\n",
            "Epoch 8, Loss: 0.020866603691130876\n",
            "Epoch 9, Loss: 0.018392655464555718\n",
            "Epoch 10, Loss: 0.02162533219184552\n",
            "Accuracy: 78.06%\n"
          ]
        }
      ]
    },
    {
      "cell_type": "code",
      "source": [],
      "metadata": {
        "id": "PgKMzWwLRT0H"
      },
      "execution_count": null,
      "outputs": []
    }
  ]
}